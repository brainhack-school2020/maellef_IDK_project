{
 "cells": [
  {
   "cell_type": "markdown",
   "metadata": {
    "slideshow": {
     "slide_type": "-"
    }
   },
   "source": [
    "# NeuroDash presentation\n",
    "\n",
    "## Introduction\n",
    "\n",
    "Hi everyone ! I'm Maëlle Freteault and I have a background of cognitive neurosciences, but with some training experience with programming in differents langages (python of course, but also C, C#, java, matlab...). I'm a first year pHD working on some encoding model of Auditory processing in the brain. \n",
    "\n",
    "What's an encoding model, you might ask ? An encoding model is a machine learning model (such as neural networks, svm, ...) that has been trained to be capable of processing complex, natural stimuli a similar way that the brain does. For example, if we have some fmri preprocessed files from subjects watching a film, we can give to the model the audio of the film, then train the model to transform our audio input in an output with the shape of fmri results (here for example, as a parcellation of fmri results, so a matrix with 210 values for the 201 regions of interest). At the end, we can compare the predicted matrix with the real recorded fmri output, and see wich regions have been better predicted with the audio input.\n",
    "\n",
    "## Project\n",
    "\n",
    "My PhD is part of a bigger project, the courtois Neuromod project. This project has for goal to model brain processes using AI, and to further our understanding of our dear brain's inner work. One important feature of the cNeuromod project is the creation of an extensive dataset of 6 subjects brains, with diverses techniques such as fMRI, MEG and biosignals recordings. The dataset is crucial when training a AI model, and having a large dataset is really a big asset to create better models. the Neuromod dataset is going to grow over 5 years, with weekly recordings of the subjects on differents tasks such as classical paradigms used in the Human Connectome Project, but also films viewing, video games and many more ... For now, I only used the films viewing dataset, called Movie10, but I wish to have a better understanding on what is available on the dataset, and the differents specs. I decided to create a Dashboard, that will let people easily visualize the dataset, and that is capable of evolving with the growth of the cNeuromod Dataset. If possible, I also want it to make it generic enouch to be adapted to other fmri datasets. \n",
    "\n",
    "## Tools"
   ]
  }
 ],
 "metadata": {
  "celltoolbar": "Diaporama",
  "kernelspec": {
   "display_name": "Python 3",
   "language": "python",
   "name": "python3"
  },
  "language_info": {
   "codemirror_mode": {
    "name": "ipython",
    "version": 3
   },
   "file_extension": ".py",
   "mimetype": "text/x-python",
   "name": "python",
   "nbconvert_exporter": "python",
   "pygments_lexer": "ipython3",
   "version": "3.7.6"
  }
 },
 "nbformat": 4,
 "nbformat_minor": 4
}
